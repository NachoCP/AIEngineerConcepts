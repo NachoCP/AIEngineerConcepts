{
 "cells": [
  {
   "cell_type": "code",
   "execution_count": 2,
   "metadata": {},
   "outputs": [
    {
     "name": "stdout",
     "output_type": "stream",
     "text": [
      "sfredcba\n"
     ]
    }
   ],
   "source": [
    "# Reverse a string\n",
    "\n",
    "text = \"abcderfs\"\n",
    "print(text[::-1])"
   ]
  },
  {
   "cell_type": "code",
   "execution_count": 9,
   "metadata": {},
   "outputs": [
    {
     "name": "stdout",
     "output_type": "stream",
     "text": [
      "[4, 9]\n"
     ]
    }
   ],
   "source": [
    "# Find missing number in a sequence\n",
    "\n",
    "sequence = [1, 2, 3, 5, 6, 7, 8, 10]\n",
    "last_number = sequence[-1]\n",
    "\n",
    "missing_numbers = [i for i in range(1, last_number+1) if i not in sequence]\n",
    "print(missing_numbers)"
   ]
  },
  {
   "cell_type": "code",
   "execution_count": 15,
   "metadata": {},
   "outputs": [
    {
     "name": "stdout",
     "output_type": "stream",
     "text": [
      "(4, 3)\n"
     ]
    }
   ],
   "source": [
    "# Find most frequent element in a list\n",
    "\n",
    "element = [1, 2, 3, 4, 5, 6, 1, 3, 4, 4]\n",
    "\n",
    "unique_values = set(element)\n",
    "max_count = (0,0)\n",
    "for e in unique_values:\n",
    "    count = element.count(e)\n",
    "    if count > max_count[1]:\n",
    "        max_count = (e, count)\n",
    "print(max_count)"
   ]
  },
  {
   "cell_type": "code",
   "execution_count": 18,
   "metadata": {},
   "outputs": [
    {
     "name": "stdout",
     "output_type": "stream",
     "text": [
      "15\n"
     ]
    }
   ],
   "source": [
    "numbers = [10, 5, 8, 20, 15]\n",
    "\n",
    "second_number = 0\n",
    "for e in numbers:\n",
    "    if e < max(numbers) and e > second_number:\n",
    "        second_number = e\n",
    "print(e)\n"
   ]
  },
  {
   "cell_type": "code",
   "execution_count": 20,
   "metadata": {},
   "outputs": [
    {
     "data": {
      "text/plain": [
       "[1, 2, 3, 4, 5, 6]"
      ]
     },
     "execution_count": 20,
     "metadata": {},
     "output_type": "execute_result"
    }
   ],
   "source": [
    "numbers = [1, 2, 2, 3, 4, 5, 6, 6]\n",
    "\n",
    "nunique_numbers = list(set(numbers))\n",
    "nunique_numbers"
   ]
  },
  {
   "cell_type": "code",
   "execution_count": 24,
   "metadata": {},
   "outputs": [
    {
     "data": {
      "text/plain": [
       "True"
      ]
     },
     "execution_count": 24,
     "metadata": {},
     "output_type": "execute_result"
    }
   ],
   "source": [
    "list_to_sort = [\"a\", \"b\", \"c\", \"d\"]\n",
    "\n",
    "sorted_list = sorted(list_to_sort)\n",
    "\n",
    "all(list_to_sort[i] == sorted_list[i] for i in range(len(list_to_sort)) )"
   ]
  },
  {
   "cell_type": "code",
   "execution_count": 34,
   "metadata": {},
   "outputs": [
    {
     "name": "stdout",
     "output_type": "stream",
     "text": [
      "[2, 4]\n",
      "[2, 7]\n",
      "[]\n",
      "[3, 3]\n"
     ]
    }
   ],
   "source": [
    "from typing import List\n",
    "def twoSum(nums: List[int], target: int) -> List[int]:\n",
    "    already_check = set()\n",
    "\n",
    "    for num in nums:\n",
    "        rest = target - num\n",
    "        if rest in already_check:\n",
    "            return sorted([num, rest])\n",
    "        already_check.add(num)\n",
    "    return []\n",
    "\n",
    "print(twoSum([3,2,4], 6))\n",
    "print(twoSum([2,7,11,15], 9))\n",
    "print(twoSum([2,7,11,15], 16))\n",
    "print(twoSum([3,3,4], 6))\n"
   ]
  },
  {
   "cell_type": "code",
   "execution_count": 46,
   "metadata": {},
   "outputs": [
    {
     "name": "stdout",
     "output_type": "stream",
     "text": [
      "(4, 'acb')\n"
     ]
    }
   ],
   "source": [
    "def lengthOfLongestSubstring(s):\n",
    "    \"\"\"\n",
    "    :type s: str\n",
    "    :rtype: int\n",
    "    \"\"\"\n",
    "    charSet = set()\n",
    "    num_chars = len(s)\n",
    "    max_lenght = 0\n",
    "    init_sequence = 0\n",
    "    max_char = \"\"\n",
    "    for n in range(num_chars):\n",
    "        if s[n] not in charSet:\n",
    "            charSet.add(s[n])\n",
    "            max_lenght = max(max_lenght, n - init_sequence + 1)\n",
    "            max_char = max([max_char,\"\".join(charSet)], key = len)\n",
    "        else:\n",
    "            charSet.remove(s[n])\n",
    "            init_sequence += 1\n",
    "    return max_lenght, max_char\n",
    "\n",
    "print(lengthOfLongestSubstring(\"abcabcbb\"))"
   ]
  },
  {
   "cell_type": "code",
   "execution_count": 49,
   "metadata": {},
   "outputs": [
    {
     "data": {
      "text/plain": [
       "True"
      ]
     },
     "execution_count": 49,
     "metadata": {},
     "output_type": "execute_result"
    }
   ],
   "source": [
    "def spiralOrder(matrix):\n",
    "    \"\"\"\n",
    "    :type matrix: List[List[int]]\n",
    "    :rtype: List[int]\n",
    "    \"\"\"\n",
    "    max_rows = len(matrix)\n",
    "    max_cols = len(matrix[0])\n",
    "    \n",
    "    rows = False\n",
    "    \n",
    "    \n",
    "def check_palindrome(text: str) -> bool:\n",
    "    return text == text[::-1]\n",
    "\n",
    "check_palindrome(\"radar\")\n"
   ]
  },
  {
   "cell_type": "code",
   "execution_count": 59,
   "metadata": {},
   "outputs": [],
   "source": [
    "import numpy as np\n",
    "from typing import TypeVar, List\n",
    "\n",
    "T = TypeVar(\"T\")\n",
    "\n",
    "def common_member(a: List[T], b: List[T]) -> List[T]:\n",
    "    return np.intersect1d(a, b)\n",
    "\n",
    "def common_member_alternative(a: List[T], b: List[T]) -> List[T]:\n",
    "    init_set = set(a)\n",
    "    \n",
    "    for element in a:\n",
    "        if element not in b and element in init_set:\n",
    "            init_set.remove(element)\n",
    "            \n",
    "    return init_set"
   ]
  },
  {
   "cell_type": "code",
   "execution_count": 60,
   "metadata": {},
   "outputs": [
    {
     "data": {
      "text/plain": [
       "{'b'}"
      ]
     },
     "execution_count": 60,
     "metadata": {},
     "output_type": "execute_result"
    }
   ],
   "source": [
    "common_member_alternative([\"a\", \"a\",\"b\"], [1,\"b\",\"b\", 2])"
   ]
  },
  {
   "cell_type": "code",
   "execution_count": 62,
   "metadata": {},
   "outputs": [
    {
     "name": "stdout",
     "output_type": "stream",
     "text": [
      "{'Red': 1, 'White': 2, 'Green': 3, 'Pink': 4, 'Black': 5}\n"
     ]
    }
   ],
   "source": [
    "def sort_dict_by_values(dict_to_sort: dict[T, T], reverse: bool = False) -> dict[T, T]:\n",
    "    return dict(sorted(dict_to_sort.items(), key = lambda x: x[1], reverse=reverse))\n",
    "colors = {'Red': 1, 'Green': 3, 'Black': 5, 'White': 2, 'Pink': 4}\n",
    "print(sort_dict_by_values(colors))\n"
   ]
  },
  {
   "cell_type": "code",
   "execution_count": 63,
   "metadata": {},
   "outputs": [
    {
     "name": "stdout",
     "output_type": "stream",
     "text": [
      "The first 10 Fibonacci numbers are: [0, 1, 1, 2, 3, 5, 8, 13, 21, 34]\n"
     ]
    }
   ],
   "source": [
    "def fibonacci(n):\n",
    "    fib_sequence = []\n",
    "    a, b = 0, 1\n",
    "    while len(fib_sequence) < n:\n",
    "        fib_sequence.append(a)\n",
    "        a, b = b, a + b\n",
    "    return fib_sequence\n",
    "\n",
    "# Example usage:\n",
    "n = 10  # Generate the first 10 Fibonacci numbers\n",
    "print(f\"The first {n} Fibonacci numbers are: {fibonacci(n)}\")\n",
    "        "
   ]
  },
  {
   "cell_type": "code",
   "execution_count": 4,
   "metadata": {},
   "outputs": [],
   "source": [
    "def maxArea(heights: list[int]) -> int:\n",
    "    left_point = 0\n",
    "    left_bar = heights[0]\n",
    "    max_area = 0\n",
    "    for height in range(1, len(heights)):\n",
    "        right_bar = heights[height]\n",
    "        if left_bar - right_bar:"
   ]
  },
  {
   "cell_type": "code",
   "execution_count": 5,
   "metadata": {},
   "outputs": [
    {
     "name": "stdout",
     "output_type": "stream",
     "text": [
      "1\n",
      "2\n",
      "3\n",
      "4\n",
      "5\n",
      "6\n",
      "7\n",
      "8\n"
     ]
    }
   ],
   "source": [
    "maxArea([1,8,6,2,5,4,8,3,7])"
   ]
  }
 ],
 "metadata": {
  "kernelspec": {
   "display_name": "Python 3",
   "language": "python",
   "name": "python3"
  },
  "language_info": {
   "codemirror_mode": {
    "name": "ipython",
    "version": 3
   },
   "file_extension": ".py",
   "mimetype": "text/x-python",
   "name": "python",
   "nbconvert_exporter": "python",
   "pygments_lexer": "ipython3",
   "version": "3.11.4"
  }
 },
 "nbformat": 4,
 "nbformat_minor": 2
}
